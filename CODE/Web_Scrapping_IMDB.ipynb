{
 "cells": [
  {
   "cell_type": "code",
   "execution_count": 1,
   "id": "16f13dd0",
   "metadata": {},
   "outputs": [],
   "source": [
    "import pandas as pd\n",
    "import numpy as np\n",
    "import requests\n",
    "from selenium import webdriver\n",
    "from selenium.webdriver.common.by import By\n",
    "import time"
   ]
  },
  {
   "cell_type": "code",
   "execution_count": 2,
   "id": "a2de62a3",
   "metadata": {},
   "outputs": [],
   "source": [
    "driver = webdriver.Chrome()\n",
    "genres = [\"drama\", \"thriller\", \"action\", \"comedy\", \"adventure\", \"romance\", \"sci-fi\", \"mystery\", \"horror\", \"crime\"]"
   ]
  },
  {
   "cell_type": "code",
   "execution_count": 3,
   "id": "3c14da68",
   "metadata": {},
   "outputs": [],
   "source": [
    "# url = f\"https://www.imdb.com/list/ls002939221/?genres\"\n",
    "# driver.get(url)"
   ]
  },
  {
   "cell_type": "code",
   "execution_count": 4,
   "id": "2501d2e3",
   "metadata": {},
   "outputs": [
    {
     "name": "stdout",
     "output_type": "stream",
     "text": [
      "Scraping complete. Data saved to Updated_Movies.csv\n"
     ]
    }
   ],
   "source": [
    "movie = []\n",
    "for genre in genres:\n",
    "    url = f\"https://www.imdb.com/list/ls002939221/?genres={genre}\"\n",
    "    driver.get(url)\n",
    "    driver.execute_script(\"window.scrollTo(0, document.body.scrollHeight);\")\n",
    "    time.sleep(5)\n",
    "    \n",
    "    movie_elements = driver.find_elements(By.CLASS_NAME, \"sc-e2db8066-1\")\n",
    "    time.sleep(1)\n",
    "    \n",
    "    for movie_element in movie_elements:\n",
    "        try:\n",
    "            name = movie_element.find_element(By.CLASS_NAME, \"ipc-title__text\").text\n",
    "            \n",
    "            try:\n",
    "                rating = movie_element.find_element(By.CLASS_NAME, \"ipc-rating-star--rating\").text\n",
    "            except:\n",
    "                rating = \"N/A\"\n",
    "                \n",
    "            try:\n",
    "                director = movie_element.find_element(By.CLASS_NAME, \"sc-d49a611d-2\").text\n",
    "            except:\n",
    "                director = \"N/A\"\n",
    "\n",
    "            try:\n",
    "                details = movie_element.find_element(By.CLASS_NAME, \"sc-d5ea4b9d-6\").text.split(\"\\n\")\n",
    "                year = details[0] if len(details) > 0 else \"N/A\"\n",
    "                duration = details[1] if len(details) > 1 else \"N/A\"\n",
    "            except:\n",
    "                year = \"N/A\"\n",
    "                duration = \"N/A\"\n",
    "            \n",
    "            try:\n",
    "                num_reviews = movie_element.find_element(By.CLASS_NAME, \"ipc-rating-star--voteCount\").text\n",
    "            except:\n",
    "                num_reviews = \"N/A\"\n",
    "            \n",
    "            try:\n",
    "                metascore = movie_element.find_element(By.CLASS_NAME, \"sc-b0901df4-0\").text\n",
    "            except:\n",
    "                metascore = \"N/A\"\n",
    "\n",
    "            \n",
    "            try:\n",
    "                summary = movie_element.find_element(By.CLASS_NAME, \"ipc-html-content-inner-div\").text\n",
    "            except:\n",
    "                summary = \"N/A\"\n",
    "\n",
    "                \n",
    "            data = {\n",
    "                \"Movie_name\": name,\n",
    "                \"Rating\": rating,\n",
    "                \"Duration\": duration,\n",
    "                \"Release_year\": year,\n",
    "                \"Genre\": genre,\n",
    "                \"Director\": director,\n",
    "                \"Num_Reviews\": num_reviews,\n",
    "                \"Metascore\": metascore,\n",
    "                \"Summary\": summary,\n",
    "            }\n",
    "            movie.append(data)\n",
    "            \n",
    "        except Exception as e:\n",
    "            print(f\"Error scraping movie details: {e}\")\n",
    "            continue\n",
    "            \n",
    "driver.quit()\n",
    "df = pd.DataFrame(movie)\n",
    "df.to_csv(\"UPDATED_MOVIES.csv\", index=False)\n",
    "print(\"Scraping complete. Data saved to Updated_Movies.csv\")"
   ]
  },
  {
   "cell_type": "code",
   "execution_count": null,
   "id": "f776aad9",
   "metadata": {},
   "outputs": [],
   "source": []
  },
  {
   "cell_type": "code",
   "execution_count": null,
   "id": "66f0d9ce",
   "metadata": {},
   "outputs": [],
   "source": []
  },
  {
   "cell_type": "code",
   "execution_count": null,
   "id": "752998b1",
   "metadata": {},
   "outputs": [],
   "source": []
  }
 ],
 "metadata": {
  "kernelspec": {
   "display_name": "Python 3 (ipykernel)",
   "language": "python",
   "name": "python3"
  },
  "language_info": {
   "codemirror_mode": {
    "name": "ipython",
    "version": 3
   },
   "file_extension": ".py",
   "mimetype": "text/x-python",
   "name": "python",
   "nbconvert_exporter": "python",
   "pygments_lexer": "ipython3",
   "version": "3.11.7"
  }
 },
 "nbformat": 4,
 "nbformat_minor": 5
}
